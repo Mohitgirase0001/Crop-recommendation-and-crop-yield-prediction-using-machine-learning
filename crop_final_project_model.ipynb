{
  "nbformat": 4,
  "nbformat_minor": 0,
  "metadata": {
    "colab": {
      "provenance": []
    },
    "kernelspec": {
      "name": "python3",
      "display_name": "Python 3"
    },
    "language_info": {
      "name": "python"
    }
  },
  "cells": [
    {
      "cell_type": "code",
      "execution_count": 1,
      "metadata": {
        "colab": {
          "base_uri": "https://localhost:8080/"
        },
        "id": "k_LrZNz7i4-U",
        "outputId": "84e3213c-432e-4da9-d516-0725f202e514"
      },
      "outputs": [
        {
          "output_type": "stream",
          "name": "stdout",
          "text": [
            "Model trained and saved successfully!\n",
            "Training Accuracy: 100.00%\n",
            "Test Accuracy: 71.30%\n"
          ]
        }
      ],
      "source": [
        "import pandas as pd\n",
        "import joblib\n",
        "from sklearn.ensemble import RandomForestClassifier\n",
        "from sklearn.model_selection import train_test_split\n",
        "from sklearn.preprocessing import LabelEncoder\n",
        "\n",
        "# Load the dataset\n",
        "df = pd.read_csv(\"/content/new_crop_recommendation.csv\")\n",
        "\n",
        "# Encode Soilcolor and label\n",
        "soil_encoder = LabelEncoder()\n",
        "df['Soilcolor'] = soil_encoder.fit_transform(df['Soilcolor'])\n",
        "\n",
        "label_encoder = LabelEncoder()\n",
        "df['label'] = label_encoder.fit_transform(df['label'])\n",
        "\n",
        "# Separate features and target\n",
        "X = df.drop(\"label\", axis=1)\n",
        "y = df[\"label\"]\n",
        "\n",
        "# Train/test split\n",
        "X_train, X_test, y_train, y_test = train_test_split(X, y, test_size=0.2, random_state=42)\n",
        "\n",
        "# Train model\n",
        "model = RandomForestClassifier(n_estimators=100, random_state=42)\n",
        "model.fit(X_train, y_train)\n",
        "\n",
        "# Save model and encoders\n",
        "joblib.dump(model, \"crop_model.pkl\")\n",
        "joblib.dump(soil_encoder, \"soil_encoder.pkl\")\n",
        "joblib.dump(label_encoder, \"label_encoder.pkl\")\n",
        "\n",
        "# Optional: print accuracy\n",
        "print(\"Model trained and saved successfully!\")\n",
        "print(f\"Training Accuracy: {model.score(X_train, y_train)*100:.2f}%\")\n",
        "print(f\"Test Accuracy: {model.score(X_test, y_test)*100:.2f}%\")\n"
      ]
    }
  ]
}